{
  "nbformat": 4,
  "nbformat_minor": 0,
  "metadata": {
    "colab": {
      "private_outputs": true,
      "provenance": []
    },
    "kernelspec": {
      "name": "python3",
      "display_name": "Python 3"
    },
    "language_info": {
      "name": "python"
    }
  },
  "cells": [
    {
      "cell_type": "code",
      "execution_count": null,
      "metadata": {
        "id": "qmwzZWiJpGki"
      },
      "outputs": [],
      "source": [
        "import numpy as np\n",
        "import pandas as pd"
      ]
    },
    {
      "cell_type": "markdown",
      "source": [
        "SERIES"
      ],
      "metadata": {
        "id": "9nSRSLduWmWY"
      }
    },
    {
      "cell_type": "markdown",
      "source": [
        "it deals with one dimensional data"
      ],
      "metadata": {
        "id": "mVbDEyYnW3Nq"
      }
    },
    {
      "cell_type": "code",
      "source": [
        "s=[10,20,30,40]\n",
        "pd.Series(s)"
      ],
      "metadata": {
        "id": "YlDZYrtvqf0F"
      },
      "execution_count": null,
      "outputs": []
    },
    {
      "cell_type": "code",
      "source": [
        "pd.Series(s,index=['a','b','c','d'])"
      ],
      "metadata": {
        "id": "-2qBRqsCrd8t"
      },
      "execution_count": null,
      "outputs": []
    },
    {
      "cell_type": "markdown",
      "source": [
        "DATA FRAME:\n",
        "\n",
        "\n",
        "a two dimensional data"
      ],
      "metadata": {
        "id": "kheBGxtSYcuh"
      }
    },
    {
      "cell_type": "code",
      "source": [
        "d={'name':['sandeep','chandu','raju','srikanth'],\n",
        "   'percentage':[90,80,70,60]}\n",
        "pd.DataFrame(d)"
      ],
      "metadata": {
        "id": "o2wbAAQGYn0B"
      },
      "execution_count": null,
      "outputs": []
    },
    {
      "cell_type": "markdown",
      "source": [
        "series:\n",
        "\n",
        "1,empty series\n",
        "\n",
        "2,series using array\n",
        "\n",
        "3,series using list\n",
        "\n",
        "4,deries using dictionary\n"
      ],
      "metadata": {
        "id": "nUXr3rqNaLWJ"
      }
    },
    {
      "cell_type": "code",
      "source": [
        "s=pd.Series([])\n",
        "s\n"
      ],
      "metadata": {
        "id": "7kK15KiCaJvK"
      },
      "execution_count": null,
      "outputs": []
    },
    {
      "cell_type": "code",
      "source": [
        "a=np.array([10,20,30,40])\n",
        "s=pd.Series(a)\n",
        "s"
      ],
      "metadata": {
        "id": "BNrOwf2bcXyv"
      },
      "execution_count": null,
      "outputs": []
    },
    {
      "cell_type": "code",
      "source": [
        "L=[10,20,30,40]\n",
        "s=pd.Series(L)\n",
        "s"
      ],
      "metadata": {
        "id": "UWKk-rsPc51g"
      },
      "execution_count": null,
      "outputs": []
    },
    {
      "cell_type": "code",
      "source": [
        "D={'a':10,'b':20,'c':30,'d':40}\n",
        "s=pd.Series(D)\n",
        "s"
      ],
      "metadata": {
        "id": "X8ba-NntdG9-"
      },
      "execution_count": null,
      "outputs": []
    },
    {
      "cell_type": "markdown",
      "source": [
        "DATAFARAME:\n",
        "\n",
        "1,load the data from excel\n",
        "\n",
        "2,load the data from csv file\n",
        "\n",
        "3,create df using dictionary\n",
        "\n",
        "4,create df using list of tuples"
      ],
      "metadata": {
        "id": "2kVs01AidY1R"
      }
    },
    {
      "cell_type": "code",
      "source": [
        "df=pd.read_excel('data.xlsx')\n",
        "df"
      ],
      "metadata": {
        "id": "aDMoE-Ugd9Qv"
      },
      "execution_count": null,
      "outputs": []
    },
    {
      "cell_type": "code",
      "source": [
        "df=pd.read_csv('data.csv')\n",
        "df"
      ],
      "metadata": {
        "id": "usdUUKrfeNz3"
      },
      "execution_count": null,
      "outputs": []
    },
    {
      "cell_type": "code",
      "source": [
        "d={'name':['abc','def','ghs'],\n",
        "   'perc':[90,85,75],\n",
        "   'branch':['cse','ece','mech']}\n",
        "df=pd.DataFrame(d)\n",
        "df\n",
        "#frame=pd.DataFrame(d,index=['a','b','c'])\n",
        "#frame"
      ],
      "metadata": {
        "id": "eOEa68qaEwp0"
      },
      "execution_count": null,
      "outputs": []
    },
    {
      "cell_type": "code",
      "source": [
        "d=[('abc',90,'cse'),('def',85,'ece'),('ghs',75,'mech')]\n",
        "df=pd.DataFrame(d)\n",
        "df\n",
        "#df=pd.DataFrame(d,columns=['name','perc','branch'])\n",
        "#df"
      ],
      "metadata": {
        "id": "NEwmPRSsHYLv"
      },
      "execution_count": null,
      "outputs": []
    },
    {
      "cell_type": "markdown",
      "source": [
        "ATTRIBUTES"
      ],
      "metadata": {
        "id": "Otss3xLoIDRH"
      }
    },
    {
      "cell_type": "code",
      "source": [
        "s=pd.Series([10,20,30,40,50],\n",
        "index=['a','b','c','d','e'],\n",
        "name='numbers')\n",
        "print(s)"
      ],
      "metadata": {
        "id": "HRaBnqzlIIn9"
      },
      "execution_count": null,
      "outputs": []
    },
    {
      "cell_type": "code",
      "source": [
        "s.index"
      ],
      "metadata": {
        "id": "QqYpPjvfJQAW"
      },
      "execution_count": null,
      "outputs": []
    },
    {
      "cell_type": "code",
      "source": [
        "s.array"
      ],
      "metadata": {
        "id": "aNOjxTU9JUH5"
      },
      "execution_count": null,
      "outputs": []
    },
    {
      "cell_type": "code",
      "source": [
        "s.values"
      ],
      "metadata": {
        "id": "zaRCxHL4Jcxq"
      },
      "execution_count": null,
      "outputs": []
    },
    {
      "cell_type": "code",
      "source": [
        "s.dtype"
      ],
      "metadata": {
        "id": "HwA1Ni-WJglA"
      },
      "execution_count": null,
      "outputs": []
    },
    {
      "cell_type": "code",
      "source": [
        "s.shape"
      ],
      "metadata": {
        "id": "2uflQ6sKJksp"
      },
      "execution_count": null,
      "outputs": []
    },
    {
      "cell_type": "code",
      "source": [
        "s.ndim"
      ],
      "metadata": {
        "id": "j5bgePkdJoBK"
      },
      "execution_count": null,
      "outputs": []
    },
    {
      "cell_type": "code",
      "source": [
        "s.nbytes"
      ],
      "metadata": {
        "id": "TJt1GVWcJr6H"
      },
      "execution_count": null,
      "outputs": []
    },
    {
      "cell_type": "code",
      "source": [
        "s.memory_usage()"
      ],
      "metadata": {
        "id": "JSJIK1JFKEeG"
      },
      "execution_count": null,
      "outputs": []
    },
    {
      "cell_type": "code",
      "source": [
        "s.memory_usage(index=False)"
      ],
      "metadata": {
        "id": "73pZJPt4KKlg"
      },
      "execution_count": null,
      "outputs": []
    },
    {
      "cell_type": "code",
      "source": [
        "s.size"
      ],
      "metadata": {
        "id": "JvakhUwkKai5"
      },
      "execution_count": null,
      "outputs": []
    },
    {
      "cell_type": "code",
      "source": [
        "s.name"
      ],
      "metadata": {
        "id": "ZIhzQfc4KeAY"
      },
      "execution_count": null,
      "outputs": []
    },
    {
      "cell_type": "code",
      "source": [
        "s.empty"
      ],
      "metadata": {
        "id": "oONdcRoJKhra"
      },
      "execution_count": null,
      "outputs": []
    },
    {
      "cell_type": "markdown",
      "source": [
        "INDEXING & SLICING DATAFARAME"
      ],
      "metadata": {
        "id": "oEyFhnBrL977"
      }
    },
    {
      "cell_type": "code",
      "source": [
        "df=pd.read_csv('/content/archive (2).zip')"
      ],
      "metadata": {
        "id": "OQA5nS_pL4_S"
      },
      "execution_count": null,
      "outputs": []
    },
    {
      "cell_type": "code",
      "source": [
        "df"
      ],
      "metadata": {
        "id": "xWVYDB8RMVAl"
      },
      "execution_count": null,
      "outputs": []
    },
    {
      "cell_type": "code",
      "source": [
        "df.head()"
      ],
      "metadata": {
        "id": "UZroFd0GMkQV"
      },
      "execution_count": null,
      "outputs": []
    },
    {
      "cell_type": "code",
      "source": [
        "df.head(3)"
      ],
      "metadata": {
        "id": "llIlZnt0Mttd"
      },
      "execution_count": null,
      "outputs": []
    },
    {
      "cell_type": "code",
      "source": [
        "df.tail()"
      ],
      "metadata": {
        "id": "25PJ7AYIMynR"
      },
      "execution_count": null,
      "outputs": []
    },
    {
      "cell_type": "code",
      "source": [
        "df.tail(6)"
      ],
      "metadata": {
        "id": "7TMQ47HUM5Uz"
      },
      "execution_count": null,
      "outputs": []
    },
    {
      "cell_type": "code",
      "source": [
        "df.describe()"
      ],
      "metadata": {
        "id": "n8T4XxqjNBWi"
      },
      "execution_count": null,
      "outputs": []
    },
    {
      "cell_type": "code",
      "source": [
        "\n",
        "df.shape"
      ],
      "metadata": {
        "id": "a4W69VaENS7a"
      },
      "execution_count": null,
      "outputs": []
    },
    {
      "cell_type": "code",
      "source": [
        "df.info()"
      ],
      "metadata": {
        "id": "NSmllaaWNYsB"
      },
      "execution_count": null,
      "outputs": []
    },
    {
      "cell_type": "code",
      "source": [
        "df.columns"
      ],
      "metadata": {
        "id": "5vv6bGBWNtIu"
      },
      "execution_count": null,
      "outputs": []
    },
    {
      "cell_type": "code",
      "source": [
        "df['race/ethnicity']"
      ],
      "metadata": {
        "id": "4epDDlYiQ3gB"
      },
      "execution_count": null,
      "outputs": []
    },
    {
      "cell_type": "code",
      "source": [
        "df['race/ethnicity'].head()"
      ],
      "metadata": {
        "id": "QGRypaQ5RIUF"
      },
      "execution_count": null,
      "outputs": []
    },
    {
      "cell_type": "code",
      "source": [
        "df[['race/ethnicity','gender']].head(10)"
      ],
      "metadata": {
        "id": "t83uaAWfRTlB"
      },
      "execution_count": null,
      "outputs": []
    },
    {
      "cell_type": "code",
      "source": [
        "df[['race/ethnicity','gender']].tail(10)"
      ],
      "metadata": {
        "id": "VkokNvZIWGaj"
      },
      "execution_count": null,
      "outputs": []
    },
    {
      "cell_type": "code",
      "source": [
        "df[['race/ethnicity','math score','reading score']].head(10)"
      ],
      "metadata": {
        "id": "e9raZKc_SFp3"
      },
      "execution_count": null,
      "outputs": []
    },
    {
      "cell_type": "code",
      "source": [
        "df[1:10]#rows"
      ],
      "metadata": {
        "id": "y-fODmw1VJfq"
      },
      "execution_count": null,
      "outputs": []
    },
    {
      "cell_type": "code",
      "source": [
        "df[1:10:2]#gaap"
      ],
      "metadata": {
        "id": "r3DtxOfGVYj8"
      },
      "execution_count": null,
      "outputs": []
    },
    {
      "cell_type": "code",
      "source": [
        "df[1:10:5]"
      ],
      "metadata": {
        "id": "GsoNAWGYWpzf"
      },
      "execution_count": null,
      "outputs": []
    },
    {
      "cell_type": "code",
      "source": [
        "df[['race/ethnicity','math score','reading score']][1:6]"
      ],
      "metadata": {
        "id": "o6B6SfKdZVL2"
      },
      "execution_count": null,
      "outputs": []
    },
    {
      "cell_type": "code",
      "source": [
        "df.loc[1]#single row will come"
      ],
      "metadata": {
        "id": "W0OFVAmZZj7-"
      },
      "execution_count": null,
      "outputs": []
    },
    {
      "cell_type": "code",
      "source": [
        "df.loc[1:6]#multiple"
      ],
      "metadata": {
        "id": "lqJlC3MEZ5si"
      },
      "execution_count": null,
      "outputs": []
    },
    {
      "cell_type": "code",
      "source": [
        "for index,rows in df.iterrows():\n",
        "  print(index,rows)\n"
      ],
      "metadata": {
        "collapsed": true,
        "id": "YsEPrmQ5aEup"
      },
      "execution_count": null,
      "outputs": []
    },
    {
      "cell_type": "code",
      "source": [
        "for index,rows in df.iterrows():\n",
        "  print(index,rows[['race/ethnicity','math score','reading score']])"
      ],
      "metadata": {
        "collapsed": true,
        "id": "AtsWV_KCa4SQ"
      },
      "execution_count": null,
      "outputs": []
    },
    {
      "cell_type": "code",
      "source": [
        "df.loc[df['math score']==86]"
      ],
      "metadata": {
        "id": "pma8Gc9Ubxaw"
      },
      "execution_count": null,
      "outputs": []
    },
    {
      "cell_type": "code",
      "source": [
        "df.loc[df['race/ethnicity']=='group A']"
      ],
      "metadata": {
        "id": "WcIDa1ohcYFw"
      },
      "execution_count": null,
      "outputs": []
    },
    {
      "cell_type": "markdown",
      "source": [
        "MATHEMATICAL OPERATIONS"
      ],
      "metadata": {
        "id": "7C-5gL2Vcxxc"
      }
    },
    {
      "cell_type": "code",
      "source": [
        "S1=pd.Series([10,20,30,40,50])\n",
        "S2=pd.Series([1,2,3,4,5])"
      ],
      "metadata": {
        "id": "mI4TbWwvc8CM"
      },
      "execution_count": null,
      "outputs": []
    },
    {
      "cell_type": "code",
      "source": [
        "S1.add(S2)"
      ],
      "metadata": {
        "id": "yfzYsGtUdZSh"
      },
      "execution_count": null,
      "outputs": []
    },
    {
      "cell_type": "code",
      "source": [
        "S1.sub(S2)"
      ],
      "metadata": {
        "id": "tXPqRSr6di_G"
      },
      "execution_count": null,
      "outputs": []
    },
    {
      "cell_type": "code",
      "source": [
        "S1.divide(S2)"
      ],
      "metadata": {
        "id": "DAJpNR_4dyFI"
      },
      "execution_count": null,
      "outputs": []
    },
    {
      "cell_type": "code",
      "source": [
        "S1.mul(S2)"
      ],
      "metadata": {
        "id": "HWa5wV1fd-a2"
      },
      "execution_count": null,
      "outputs": []
    },
    {
      "cell_type": "code",
      "source": [
        "S1.mod(S2)"
      ],
      "metadata": {
        "id": "xG-tXiZMeEPw"
      },
      "execution_count": null,
      "outputs": []
    },
    {
      "cell_type": "code",
      "source": [
        "S1.pow(S2)"
      ],
      "metadata": {
        "id": "UX_jSJZae6w2"
      },
      "execution_count": null,
      "outputs": []
    },
    {
      "cell_type": "code",
      "source": [
        "S1.le(S2)"
      ],
      "metadata": {
        "id": "1VoVHNRbfAV5"
      },
      "execution_count": null,
      "outputs": []
    },
    {
      "cell_type": "code",
      "source": [
        "S1.ge(S2)"
      ],
      "metadata": {
        "id": "o8Jt_MWtfOmX"
      },
      "execution_count": null,
      "outputs": []
    },
    {
      "cell_type": "code",
      "source": [
        "S1.equals(S2)"
      ],
      "metadata": {
        "id": "noB-Dl2Zfd6I"
      },
      "execution_count": null,
      "outputs": []
    },
    {
      "cell_type": "markdown",
      "source": [
        "SORTING DATAFARME"
      ],
      "metadata": {
        "id": "hb7Qbv4jfrJj"
      }
    },
    {
      "cell_type": "code",
      "source": [
        "df.sort_values('math score')"
      ],
      "metadata": {
        "id": "lv1jqhxMfzRL"
      },
      "execution_count": null,
      "outputs": []
    },
    {
      "cell_type": "code",
      "source": [
        "df.sort_values('race/ethnicity')"
      ],
      "metadata": {
        "id": "U6MxkuSigDZW"
      },
      "execution_count": null,
      "outputs": []
    },
    {
      "cell_type": "code",
      "source": [
        "df.sort_values('math score',ascending=False) #descending"
      ],
      "metadata": {
        "id": "DbYUo9q1geGd"
      },
      "execution_count": null,
      "outputs": []
    },
    {
      "cell_type": "code",
      "source": [
        "df.sort_values(['math score','reading score'])"
      ],
      "metadata": {
        "id": "-IsLESH1g5Ai"
      },
      "execution_count": null,
      "outputs": []
    },
    {
      "cell_type": "code",
      "source": [
        "df.sort_values(['math score','reading score'],ascending=False)"
      ],
      "metadata": {
        "id": "ovdeUvTXh_Ks"
      },
      "execution_count": null,
      "outputs": []
    },
    {
      "cell_type": "code",
      "source": [
        "df.sort_values(['math score','reading score'],ascending=[True,False])#0=represents decending,1=represants ascending\n"
      ],
      "metadata": {
        "id": "LtZLVpqRiPF0"
      },
      "execution_count": null,
      "outputs": []
    },
    {
      "cell_type": "markdown",
      "source": [
        "MANIPULATING DATAFRAME(ADD COLUMN,DROP COLUMN)"
      ],
      "metadata": {
        "id": "X5kp7Y4VLV96"
      }
    },
    {
      "cell_type": "code",
      "source": [
        "df"
      ],
      "metadata": {
        "id": "EeQOJUanLSNT"
      },
      "execution_count": null,
      "outputs": []
    },
    {
      "cell_type": "code",
      "source": [
        "df['total_marks']=0 #new column as created"
      ],
      "metadata": {
        "id": "P4qIG0bqL6_s"
      },
      "execution_count": null,
      "outputs": []
    },
    {
      "cell_type": "code",
      "source": [
        "df #defaluit values zero"
      ],
      "metadata": {
        "id": "c6LjzDSKMJcR"
      },
      "execution_count": null,
      "outputs": []
    },
    {
      "cell_type": "code",
      "source": [
        "df['total_marks']=df['math score']+df['reading score']+df['writing score']  #all subject marks stored in toetal marks"
      ],
      "metadata": {
        "id": "YmzNkUABMpVI"
      },
      "execution_count": null,
      "outputs": []
    },
    {
      "cell_type": "code",
      "source": [
        "df"
      ],
      "metadata": {
        "id": "GIUp9M6_NuC0"
      },
      "execution_count": null,
      "outputs": []
    },
    {
      "cell_type": "code",
      "source": [
        "df.drop(columns='total_marks') #remove the columns but orginal  data not delete\n"
      ],
      "metadata": {
        "id": "uyI5ftMeNI2i"
      },
      "execution_count": null,
      "outputs": []
    },
    {
      "cell_type": "code",
      "source": [
        "df[['math score','reading score','writing score','total_marks']]"
      ],
      "metadata": {
        "id": "fzhIghUNN54v"
      },
      "execution_count": null,
      "outputs": []
    },
    {
      "cell_type": "code",
      "source": [
        "df[['race/ethnicity','total_marks']]"
      ],
      "metadata": {
        "id": "aV_vjGuvOAVB"
      },
      "execution_count": null,
      "outputs": []
    },
    {
      "cell_type": "markdown",
      "source": [
        "EXPORT DATAFRAME TO EXCEL,CSV & TEXTFILE"
      ],
      "metadata": {
        "id": "8-28L2oLOr-1"
      }
    },
    {
      "cell_type": "code",
      "source": [
        "df"
      ],
      "metadata": {
        "id": "6_nIo82ZPZlz"
      },
      "execution_count": null,
      "outputs": []
    },
    {
      "cell_type": "code",
      "source": [
        "df['total_marks']=df['math score']+df['reading score']+df['writing score']\n",
        "df"
      ],
      "metadata": {
        "id": "ATR4NH5qPfxH"
      },
      "execution_count": null,
      "outputs": []
    },
    {
      "cell_type": "code",
      "source": [
        "df.to_excel('new_data.xlsx')\n",
        "df"
      ],
      "metadata": {
        "id": "y_1pwqv_Pr9m"
      },
      "execution_count": null,
      "outputs": []
    },
    {
      "cell_type": "code",
      "source": [
        "df.to_csv('new_data.csv')\n",
        "df"
      ],
      "metadata": {
        "id": "ecPuQKyoQPcv"
      },
      "execution_count": null,
      "outputs": []
    },
    {
      "cell_type": "code",
      "source": [
        "df.to_csv('new_data.csv',index=False)\n",
        "df"
      ],
      "metadata": {
        "id": "dQ2ax5f1QmCh"
      },
      "execution_count": null,
      "outputs": []
    },
    {
      "cell_type": "markdown",
      "source": [
        "UNDER SATANDING LOC[] & ILOC[]\n",
        "\n",
        "\n",
        "1,loc is retrive the data interms of rows coulmns label based data selecting method\n",
        "\n",
        "\n",
        "2,iloc used retrive the data based upon the rows and columns it index based data selecting method"
      ],
      "metadata": {
        "id": "tBOAYdQTRoVs"
      }
    },
    {
      "cell_type": "code",
      "source": [
        "df"
      ],
      "metadata": {
        "id": "wRRe2MbrRgSe"
      },
      "execution_count": null,
      "outputs": []
    },
    {
      "cell_type": "code",
      "source": [
        "df.loc[3]"
      ],
      "metadata": {
        "id": "Wfw4qikjSu8A"
      },
      "execution_count": null,
      "outputs": []
    },
    {
      "cell_type": "code",
      "source": [
        "df.loc[3,'gender']"
      ],
      "metadata": {
        "id": "0QquW9lzTCfz"
      },
      "execution_count": null,
      "outputs": []
    },
    {
      "cell_type": "code",
      "source": [
        "df.loc[0:4]"
      ],
      "metadata": {
        "id": "f_WV1T87TThx"
      },
      "execution_count": null,
      "outputs": []
    },
    {
      "cell_type": "code",
      "source": [
        "df.loc[0:4,'gender']"
      ],
      "metadata": {
        "id": "1Oh0wSJeTZ33"
      },
      "execution_count": null,
      "outputs": []
    },
    {
      "cell_type": "code",
      "source": [
        "df.loc[0:4,['gender','race/ethnicity']]"
      ],
      "metadata": {
        "id": "BfenyR2uTiaF"
      },
      "execution_count": null,
      "outputs": []
    },
    {
      "cell_type": "code",
      "source": [
        "df.loc[0:4,['race/ethnicity','total_marks']]"
      ],
      "metadata": {
        "id": "FTXD4jNFT8jf"
      },
      "execution_count": null,
      "outputs": []
    },
    {
      "cell_type": "code",
      "source": [
        "#df.iloc[0:4,'race/ethnicity':'total_marks] #get error becuse iloc index based data selecting method"
      ],
      "metadata": {
        "id": "Wk0agosUUVSz"
      },
      "execution_count": null,
      "outputs": []
    },
    {
      "cell_type": "code",
      "source": [
        "df.iloc[0:4,0:3]"
      ],
      "metadata": {
        "id": "WjJYcX5FVSJR"
      },
      "execution_count": null,
      "outputs": []
    },
    {
      "cell_type": "markdown",
      "source": [
        "* iloc last index value doesnot consider"
      ],
      "metadata": {
        "id": "Jdu-VDovV42K"
      }
    },
    {
      "cell_type": "code",
      "source": [
        "df.loc[0:4]"
      ],
      "metadata": {
        "id": "-wMHCrcYVv4M"
      },
      "execution_count": null,
      "outputs": []
    },
    {
      "cell_type": "code",
      "source": [
        "df.iloc[0:4]"
      ],
      "metadata": {
        "id": "I3J2drF1WLcI"
      },
      "execution_count": null,
      "outputs": []
    },
    {
      "cell_type": "code",
      "source": [
        "df.iloc[0:4,0:7]"
      ],
      "metadata": {
        "id": "XWPq-DpPWQoS"
      },
      "execution_count": null,
      "outputs": []
    },
    {
      "cell_type": "code",
      "source": [
        "df.iloc[0:4,0]"
      ],
      "metadata": {
        "id": "wqv1jJhsWl1a"
      },
      "execution_count": null,
      "outputs": []
    },
    {
      "cell_type": "code",
      "source": [
        "df.iloc[[0,6]] #0 and 6 index 2 rows"
      ],
      "metadata": {
        "id": "x-Mdn9MSWwzo"
      },
      "execution_count": null,
      "outputs": []
    },
    {
      "cell_type": "code",
      "source": [
        "df.iloc[:,[0,7]] #0 and 7 columns will be display"
      ],
      "metadata": {
        "id": "3bavih5bXUV_"
      },
      "execution_count": null,
      "outputs": []
    },
    {
      "cell_type": "markdown",
      "source": [
        "HANDLING MISSING DATA(DROPNA & FILLNA)\n",
        "\n",
        "\n",
        "* remove missinga data-dropna()\n",
        "\n",
        "* fill with default values-Fillna()\n"
      ],
      "metadata": {
        "id": "ubtgAzPgX_2I"
      }
    },
    {
      "cell_type": "code",
      "source": [
        "df"
      ],
      "metadata": {
        "id": "UCGzGy7DY5eO"
      },
      "execution_count": null,
      "outputs": []
    },
    {
      "cell_type": "code",
      "source": [
        "df.dropna()"
      ],
      "metadata": {
        "id": "JL7hwYxQY-EX"
      },
      "execution_count": null,
      "outputs": []
    },
    {
      "cell_type": "code",
      "source": [
        "df.dropna(inplace=True)"
      ],
      "metadata": {
        "id": "-lVcGWa4Y8MD"
      },
      "execution_count": null,
      "outputs": []
    },
    {
      "cell_type": "code",
      "source": [
        "df['test preparation course'].dropna()"
      ],
      "metadata": {
        "id": "7NlNJgwHZbHk"
      },
      "execution_count": null,
      "outputs": []
    },
    {
      "cell_type": "code",
      "source": [
        "df.info()"
      ],
      "metadata": {
        "id": "8YmYrANkaDva"
      },
      "execution_count": null,
      "outputs": []
    },
    {
      "cell_type": "code",
      "source": [
        "df.loc[:,['test preparation course','lunch']].dropna()"
      ],
      "metadata": {
        "id": "LosNeezYaMK-"
      },
      "execution_count": null,
      "outputs": []
    },
    {
      "cell_type": "code",
      "source": [
        "df.fillna('missing')"
      ],
      "metadata": {
        "id": "M3G6S6HtbQFS"
      },
      "execution_count": null,
      "outputs": []
    },
    {
      "cell_type": "code",
      "source": [
        "df['math score'].fillna(df['math score'].mean())"
      ],
      "metadata": {
        "id": "-do1qj6CcDdx"
      },
      "execution_count": null,
      "outputs": []
    },
    {
      "cell_type": "markdown",
      "source": [
        "REMOVE DUPLICATES FROM DATAFRAME"
      ],
      "metadata": {
        "id": "tXrWI9hPcZ4h"
      }
    },
    {
      "cell_type": "code",
      "source": [
        "df.duplicated()"
      ],
      "metadata": {
        "id": "VyMRliJEcisi"
      },
      "execution_count": null,
      "outputs": []
    },
    {
      "cell_type": "code",
      "source": [
        "df.drop_duplicates()"
      ],
      "metadata": {
        "id": "FLyuuTkCcrNc"
      },
      "execution_count": null,
      "outputs": []
    },
    {
      "cell_type": "code",
      "source": [],
      "metadata": {
        "id": "ihhqpYh5c2Pz"
      },
      "execution_count": null,
      "outputs": []
    }
  ]
}